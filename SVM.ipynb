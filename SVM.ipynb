{
 "cells": [
  {
   "cell_type": "code",
   "execution_count": 2,
   "id": "fdfaad87",
   "metadata": {},
   "outputs": [],
   "source": [
    "import pandas as pd\n",
    "from sklearn.model_selection import train_test_split\n",
    "from sklearn.metrics import accuracy_score\n",
    "from sklearn.feature_extraction.text import TfidfVectorizer\n",
    "from sklearn.svm import SVC"
   ]
  },
  {
   "cell_type": "code",
   "execution_count": 3,
   "id": "810a9cbe",
   "metadata": {},
   "outputs": [],
   "source": [
    "df = pd.read_csv(file_path)"
   ]
  },
  {
   "cell_type": "code",
   "execution_count": 4,
   "id": "3fd09f9c",
   "metadata": {},
   "outputs": [
    {
     "data": {
      "text/plain": [
       "100"
      ]
     },
     "execution_count": 4,
     "metadata": {},
     "output_type": "execute_result"
    }
   ],
   "source": [
    "len(df)"
   ]
  },
  {
   "cell_type": "code",
   "execution_count": 5,
   "id": "fcdb8622",
   "metadata": {},
   "outputs": [
    {
     "data": {
      "text/html": [
       "<div>\n",
       "<style scoped>\n",
       "    .dataframe tbody tr th:only-of-type {\n",
       "        vertical-align: middle;\n",
       "    }\n",
       "\n",
       "    .dataframe tbody tr th {\n",
       "        vertical-align: top;\n",
       "    }\n",
       "\n",
       "    .dataframe thead th {\n",
       "        text-align: right;\n",
       "    }\n",
       "</style>\n",
       "<table border=\"1\" class=\"dataframe\">\n",
       "  <thead>\n",
       "    <tr style=\"text-align: right;\">\n",
       "      <th></th>\n",
       "      <th>No</th>\n",
       "      <th>Sentences</th>\n",
       "      <th>Subject of comparison</th>\n",
       "      <th>Object of comparison</th>\n",
       "      <th>Nature</th>\n",
       "      <th>Categories</th>\n",
       "      <th>Feature matching</th>\n",
       "      <th>Symmetry</th>\n",
       "      <th>Salience</th>\n",
       "      <th>Broad, unifying concept</th>\n",
       "      <th>Domain incongruence</th>\n",
       "      <th>Gold</th>\n",
       "    </tr>\n",
       "  </thead>\n",
       "  <tbody>\n",
       "    <tr>\n",
       "      <th>0</th>\n",
       "      <td>1</td>\n",
       "      <td>Tom is as fast as a leopard.</td>\n",
       "      <td>Tom</td>\n",
       "      <td>a leopard</td>\n",
       "      <td>Qualitative</td>\n",
       "      <td>Different basic level category (human, animal)</td>\n",
       "      <td>More prominent differences</td>\n",
       "      <td>Asymmetrical</td>\n",
       "      <td>High salience in object of comparison</td>\n",
       "      <td>Meaningful</td>\n",
       "      <td>Distinct</td>\n",
       "      <td>Simile</td>\n",
       "    </tr>\n",
       "    <tr>\n",
       "      <th>1</th>\n",
       "      <td>2</td>\n",
       "      <td>But he’s no fool, even if he is as obstinate a...</td>\n",
       "      <td>He</td>\n",
       "      <td>a mule</td>\n",
       "      <td>Qualitative</td>\n",
       "      <td>Different basic level category (human, animal)</td>\n",
       "      <td>More prominent differences</td>\n",
       "      <td>Asymmetrical</td>\n",
       "      <td>High salience in object of comparison</td>\n",
       "      <td>Meaningful</td>\n",
       "      <td>Distinct</td>\n",
       "      <td>Simile</td>\n",
       "    </tr>\n",
       "    <tr>\n",
       "      <th>2</th>\n",
       "      <td>3</td>\n",
       "      <td>I was as cool as a cucumber.</td>\n",
       "      <td>I</td>\n",
       "      <td>cucumber</td>\n",
       "      <td>Qualitative</td>\n",
       "      <td>Different basic level category (human, fruit)</td>\n",
       "      <td>More prominent differences</td>\n",
       "      <td>Asymmetrical</td>\n",
       "      <td>High salience in object of comparison</td>\n",
       "      <td>Meaningful</td>\n",
       "      <td>Distinct</td>\n",
       "      <td>Simile</td>\n",
       "    </tr>\n",
       "    <tr>\n",
       "      <th>3</th>\n",
       "      <td>4</td>\n",
       "      <td>He paid as much as a million dollars for the p...</td>\n",
       "      <td>He</td>\n",
       "      <td>-</td>\n",
       "      <td>-</td>\n",
       "      <td>-</td>\n",
       "      <td>-</td>\n",
       "      <td>-</td>\n",
       "      <td>-</td>\n",
       "      <td>-</td>\n",
       "      <td>-</td>\n",
       "      <td>Not Applicable</td>\n",
       "    </tr>\n",
       "    <tr>\n",
       "      <th>4</th>\n",
       "      <td>5</td>\n",
       "      <td>The wicked flee when no one pursues; but the r...</td>\n",
       "      <td>Righteous</td>\n",
       "      <td>a lion</td>\n",
       "      <td>Qualitative</td>\n",
       "      <td>Different basic level category (human, animal)</td>\n",
       "      <td>More prominent differences</td>\n",
       "      <td>Asymmetrical</td>\n",
       "      <td>High salience in object of comparison</td>\n",
       "      <td>Meaningful</td>\n",
       "      <td>Distinct</td>\n",
       "      <td>Simile</td>\n",
       "    </tr>\n",
       "  </tbody>\n",
       "</table>\n",
       "</div>"
      ],
      "text/plain": [
       "   No                                          Sentences  \\\n",
       "0   1                       Tom is as fast as a leopard.   \n",
       "1   2  But he’s no fool, even if he is as obstinate a...   \n",
       "2   3                       I was as cool as a cucumber.   \n",
       "3   4  He paid as much as a million dollars for the p...   \n",
       "4   5  The wicked flee when no one pursues; but the r...   \n",
       "\n",
       "  Subject of comparison Object of comparison       Nature  \\\n",
       "0                   Tom            a leopard  Qualitative   \n",
       "1                    He               a mule  Qualitative   \n",
       "2                     I             cucumber  Qualitative   \n",
       "3                    He                    -            -   \n",
       "4             Righteous               a lion  Qualitative   \n",
       "\n",
       "                                       Categories  \\\n",
       "0  Different basic level category (human, animal)   \n",
       "1  Different basic level category (human, animal)   \n",
       "2   Different basic level category (human, fruit)   \n",
       "3                                               -   \n",
       "4  Different basic level category (human, animal)   \n",
       "\n",
       "              Feature matching      Symmetry  \\\n",
       "0   More prominent differences  Asymmetrical   \n",
       "1  More prominent differences   Asymmetrical   \n",
       "2   More prominent differences  Asymmetrical   \n",
       "3                            -             -   \n",
       "4   More prominent differences  Asymmetrical   \n",
       "\n",
       "                                Salience Broad, unifying concept  \\\n",
       "0  High salience in object of comparison              Meaningful   \n",
       "1  High salience in object of comparison              Meaningful   \n",
       "2  High salience in object of comparison              Meaningful   \n",
       "3                                      -                       -   \n",
       "4  High salience in object of comparison              Meaningful   \n",
       "\n",
       "  Domain incongruence            Gold  \n",
       "0            Distinct          Simile  \n",
       "1            Distinct          Simile  \n",
       "2            Distinct          Simile  \n",
       "3                   -  Not Applicable  \n",
       "4            Distinct          Simile  "
      ]
     },
     "execution_count": 5,
     "metadata": {},
     "output_type": "execute_result"
    }
   ],
   "source": [
    "df.head()"
   ]
  },
  {
   "cell_type": "code",
   "execution_count": 6,
   "id": "d0de6a6f",
   "metadata": {},
   "outputs": [],
   "source": [
    "df= df[[\"Sentences\", \"Gold\"]]"
   ]
  },
  {
   "cell_type": "code",
   "execution_count": 7,
   "id": "b3de13a3",
   "metadata": {},
   "outputs": [
    {
     "data": {
      "text/html": [
       "<div>\n",
       "<style scoped>\n",
       "    .dataframe tbody tr th:only-of-type {\n",
       "        vertical-align: middle;\n",
       "    }\n",
       "\n",
       "    .dataframe tbody tr th {\n",
       "        vertical-align: top;\n",
       "    }\n",
       "\n",
       "    .dataframe thead th {\n",
       "        text-align: right;\n",
       "    }\n",
       "</style>\n",
       "<table border=\"1\" class=\"dataframe\">\n",
       "  <thead>\n",
       "    <tr style=\"text-align: right;\">\n",
       "      <th></th>\n",
       "      <th>Sentences</th>\n",
       "      <th>Gold</th>\n",
       "    </tr>\n",
       "  </thead>\n",
       "  <tbody>\n",
       "    <tr>\n",
       "      <th>0</th>\n",
       "      <td>Tom is as fast as a leopard.</td>\n",
       "      <td>Simile</td>\n",
       "    </tr>\n",
       "    <tr>\n",
       "      <th>1</th>\n",
       "      <td>But he’s no fool, even if he is as obstinate a...</td>\n",
       "      <td>Simile</td>\n",
       "    </tr>\n",
       "    <tr>\n",
       "      <th>2</th>\n",
       "      <td>I was as cool as a cucumber.</td>\n",
       "      <td>Simile</td>\n",
       "    </tr>\n",
       "    <tr>\n",
       "      <th>3</th>\n",
       "      <td>He paid as much as a million dollars for the p...</td>\n",
       "      <td>Not Applicable</td>\n",
       "    </tr>\n",
       "    <tr>\n",
       "      <th>4</th>\n",
       "      <td>The wicked flee when no one pursues; but the r...</td>\n",
       "      <td>Simile</td>\n",
       "    </tr>\n",
       "    <tr>\n",
       "      <th>...</th>\n",
       "      <td>...</td>\n",
       "      <td>...</td>\n",
       "    </tr>\n",
       "    <tr>\n",
       "      <th>95</th>\n",
       "      <td>He always keeps his room as neat as a pin.</td>\n",
       "      <td>Simile</td>\n",
       "    </tr>\n",
       "    <tr>\n",
       "      <th>96</th>\n",
       "      <td>He is as stubborn as a Missouri Mule.</td>\n",
       "      <td>Simile</td>\n",
       "    </tr>\n",
       "    <tr>\n",
       "      <th>97</th>\n",
       "      <td>The surface was as flat as a mirror.</td>\n",
       "      <td>Comparison</td>\n",
       "    </tr>\n",
       "    <tr>\n",
       "      <th>98</th>\n",
       "      <td>It allows very poor people, who don't qualify ...</td>\n",
       "      <td>Not Applicable</td>\n",
       "    </tr>\n",
       "    <tr>\n",
       "      <th>99</th>\n",
       "      <td>Tom is as gentle as a lamb.</td>\n",
       "      <td>Simile</td>\n",
       "    </tr>\n",
       "  </tbody>\n",
       "</table>\n",
       "<p>100 rows × 2 columns</p>\n",
       "</div>"
      ],
      "text/plain": [
       "                                            Sentences            Gold\n",
       "0                        Tom is as fast as a leopard.          Simile\n",
       "1   But he’s no fool, even if he is as obstinate a...          Simile\n",
       "2                        I was as cool as a cucumber.          Simile\n",
       "3   He paid as much as a million dollars for the p...  Not Applicable\n",
       "4   The wicked flee when no one pursues; but the r...          Simile\n",
       "..                                                ...             ...\n",
       "95         He always keeps his room as neat as a pin.          Simile\n",
       "96              He is as stubborn as a Missouri Mule.          Simile\n",
       "97               The surface was as flat as a mirror.      Comparison\n",
       "98  It allows very poor people, who don't qualify ...  Not Applicable\n",
       "99                        Tom is as gentle as a lamb.          Simile\n",
       "\n",
       "[100 rows x 2 columns]"
      ]
     },
     "execution_count": 7,
     "metadata": {},
     "output_type": "execute_result"
    }
   ],
   "source": [
    "df"
   ]
  },
  {
   "cell_type": "code",
   "execution_count": 8,
   "id": "1e3cadde",
   "metadata": {},
   "outputs": [
    {
     "name": "stdout",
     "output_type": "stream",
     "text": [
      "['Simile' 'Not Applicable' 'Comparison']\n"
     ]
    }
   ],
   "source": [
    "print(df['Gold'].unique())"
   ]
  },
  {
   "cell_type": "code",
   "execution_count": 9,
   "id": "cae58356",
   "metadata": {},
   "outputs": [],
   "source": [
    "new_df= df.copy()"
   ]
  },
  {
   "cell_type": "code",
   "execution_count": 10,
   "id": "5c6daffb",
   "metadata": {},
   "outputs": [],
   "source": [
    "new_df.loc[new_df['Gold'] == 'Simile', 'Gold'] = 0\n",
    "new_df.loc[new_df['Gold'] == 'Comparison', 'Gold'] = 1\n",
    "new_df.loc[new_df['Gold'] == 'Not Applicable', 'Gold'] = 2"
   ]
  },
  {
   "cell_type": "code",
   "execution_count": 11,
   "id": "abd071ce",
   "metadata": {},
   "outputs": [
    {
     "data": {
      "text/html": [
       "<div>\n",
       "<style scoped>\n",
       "    .dataframe tbody tr th:only-of-type {\n",
       "        vertical-align: middle;\n",
       "    }\n",
       "\n",
       "    .dataframe tbody tr th {\n",
       "        vertical-align: top;\n",
       "    }\n",
       "\n",
       "    .dataframe thead th {\n",
       "        text-align: right;\n",
       "    }\n",
       "</style>\n",
       "<table border=\"1\" class=\"dataframe\">\n",
       "  <thead>\n",
       "    <tr style=\"text-align: right;\">\n",
       "      <th></th>\n",
       "      <th>Sentences</th>\n",
       "      <th>Gold</th>\n",
       "    </tr>\n",
       "  </thead>\n",
       "  <tbody>\n",
       "    <tr>\n",
       "      <th>0</th>\n",
       "      <td>Tom is as fast as a leopard.</td>\n",
       "      <td>0</td>\n",
       "    </tr>\n",
       "    <tr>\n",
       "      <th>1</th>\n",
       "      <td>But he’s no fool, even if he is as obstinate a...</td>\n",
       "      <td>0</td>\n",
       "    </tr>\n",
       "    <tr>\n",
       "      <th>2</th>\n",
       "      <td>I was as cool as a cucumber.</td>\n",
       "      <td>0</td>\n",
       "    </tr>\n",
       "    <tr>\n",
       "      <th>3</th>\n",
       "      <td>He paid as much as a million dollars for the p...</td>\n",
       "      <td>2</td>\n",
       "    </tr>\n",
       "    <tr>\n",
       "      <th>4</th>\n",
       "      <td>The wicked flee when no one pursues; but the r...</td>\n",
       "      <td>0</td>\n",
       "    </tr>\n",
       "    <tr>\n",
       "      <th>...</th>\n",
       "      <td>...</td>\n",
       "      <td>...</td>\n",
       "    </tr>\n",
       "    <tr>\n",
       "      <th>95</th>\n",
       "      <td>He always keeps his room as neat as a pin.</td>\n",
       "      <td>0</td>\n",
       "    </tr>\n",
       "    <tr>\n",
       "      <th>96</th>\n",
       "      <td>He is as stubborn as a Missouri Mule.</td>\n",
       "      <td>0</td>\n",
       "    </tr>\n",
       "    <tr>\n",
       "      <th>97</th>\n",
       "      <td>The surface was as flat as a mirror.</td>\n",
       "      <td>1</td>\n",
       "    </tr>\n",
       "    <tr>\n",
       "      <th>98</th>\n",
       "      <td>It allows very poor people, who don't qualify ...</td>\n",
       "      <td>2</td>\n",
       "    </tr>\n",
       "    <tr>\n",
       "      <th>99</th>\n",
       "      <td>Tom is as gentle as a lamb.</td>\n",
       "      <td>0</td>\n",
       "    </tr>\n",
       "  </tbody>\n",
       "</table>\n",
       "<p>100 rows × 2 columns</p>\n",
       "</div>"
      ],
      "text/plain": [
       "                                            Sentences Gold\n",
       "0                        Tom is as fast as a leopard.    0\n",
       "1   But he’s no fool, even if he is as obstinate a...    0\n",
       "2                        I was as cool as a cucumber.    0\n",
       "3   He paid as much as a million dollars for the p...    2\n",
       "4   The wicked flee when no one pursues; but the r...    0\n",
       "..                                                ...  ...\n",
       "95         He always keeps his room as neat as a pin.    0\n",
       "96              He is as stubborn as a Missouri Mule.    0\n",
       "97               The surface was as flat as a mirror.    1\n",
       "98  It allows very poor people, who don't qualify ...    2\n",
       "99                        Tom is as gentle as a lamb.    0\n",
       "\n",
       "[100 rows x 2 columns]"
      ]
     },
     "execution_count": 11,
     "metadata": {},
     "output_type": "execute_result"
    }
   ],
   "source": [
    "new_df"
   ]
  },
  {
   "cell_type": "code",
   "execution_count": 12,
   "id": "f37fff86",
   "metadata": {},
   "outputs": [],
   "source": [
    "X_train, X_test, y_train, y_test = train_test_split(new_df['Sentences'], new_df['Gold'], test_size= 0.2, random_state= 42)"
   ]
  },
  {
   "cell_type": "code",
   "execution_count": 39,
   "id": "a05b7d9b",
   "metadata": {},
   "outputs": [],
   "source": [
    "word_vectorizer= TfidfVectorizer(ngram_range=(1,2), analyzer='word')"
   ]
  },
  {
   "cell_type": "code",
   "execution_count": 40,
   "id": "0beadf56",
   "metadata": {},
   "outputs": [
    {
     "data": {
      "text/plain": [
       "TfidfVectorizer(ngram_range=(1, 2))"
      ]
     },
     "execution_count": 40,
     "metadata": {},
     "output_type": "execute_result"
    }
   ],
   "source": [
    "word_vectorizer.fit(X_train)"
   ]
  },
  {
   "cell_type": "code",
   "execution_count": 234,
   "id": "035aec47",
   "metadata": {},
   "outputs": [],
   "source": [
    "# training data\n",
    "\n",
    "X_train_word = word_vectorizer.transform(X_train)\n",
    "\n",
    "# test data\n",
    "\n",
    "X_test_word = word_vectorizer.transform(X_test)"
   ]
  },
  {
   "cell_type": "code",
   "execution_count": 235,
   "id": "e16db081",
   "metadata": {},
   "outputs": [],
   "source": [
    "y_train = y_train.astype('int')\n",
    "y_test = y_test.astype('int')"
   ]
  },
  {
   "cell_type": "code",
   "execution_count": 236,
   "id": "196e309e",
   "metadata": {},
   "outputs": [
    {
     "data": {
      "text/plain": [
       "SVC(kernel='linear')"
      ]
     },
     "execution_count": 236,
     "metadata": {},
     "output_type": "execute_result"
    }
   ],
   "source": [
    "model = SVC(C=1.0, kernel='linear')\n",
    "\n",
    "model.fit(X_train_word, y_train)"
   ]
  },
  {
   "cell_type": "code",
   "execution_count": 237,
   "id": "cdb8f49b",
   "metadata": {},
   "outputs": [],
   "source": [
    "predictions = model.predict(X_test_word)"
   ]
  },
  {
   "cell_type": "code",
   "execution_count": 238,
   "id": "59ec83fb",
   "metadata": {},
   "outputs": [
    {
     "name": "stdout",
     "output_type": "stream",
     "text": [
      "Accuracy: 0.75\n"
     ]
    }
   ],
   "source": [
    "print (\"Accuracy:\", accuracy_score(y_test, predictions))"
   ]
  }
 ],
 "metadata": {
  "kernelspec": {
   "display_name": "Python 3 (ipykernel)",
   "language": "python",
   "name": "python3"
  },
  "language_info": {
   "codemirror_mode": {
    "name": "ipython",
    "version": 3
   },
   "file_extension": ".py",
   "mimetype": "text/x-python",
   "name": "python",
   "nbconvert_exporter": "python",
   "pygments_lexer": "ipython3",
   "version": "3.9.12"
  }
 },
 "nbformat": 4,
 "nbformat_minor": 5
}

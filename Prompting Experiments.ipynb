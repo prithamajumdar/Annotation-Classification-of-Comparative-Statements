{
 "cells": [
  {
   "cell_type": "code",
   "execution_count": 1,
   "metadata": {
    "colab": {
     "base_uri": "https://localhost:8080/"
    },
    "id": "fycONfYDSDql",
    "outputId": "f08a1525-e6b2-4f6b-cdcf-a0a1f5494a8e"
   },
   "outputs": [
    {
     "name": "stdout",
     "output_type": "stream",
     "text": [
      "Collecting litellm\n",
      "  Downloading litellm-1.63.6-py3-none-any.whl (6.9 MB)\n",
      "\u001b[K     |████████████████████████████████| 6.9 MB 7.7 MB/s eta 0:00:01\n",
      "\u001b[?25hCollecting pydantic<3.0.0,>=2.0.0\n",
      "  Downloading pydantic-2.10.6-py3-none-any.whl (431 kB)\n",
      "\u001b[K     |████████████████████████████████| 431 kB 23.8 MB/s eta 0:00:01\n",
      "\u001b[?25hCollecting python-dotenv>=0.2.0\n",
      "  Downloading python_dotenv-1.0.1-py3-none-any.whl (19 kB)\n",
      "Collecting jinja2<4.0.0,>=3.1.2\n",
      "  Downloading jinja2-3.1.6-py3-none-any.whl (134 kB)\n",
      "\u001b[K     |████████████████████████████████| 134 kB 61.3 MB/s eta 0:00:01\n",
      "\u001b[?25hCollecting tiktoken>=0.7.0\n",
      "  Downloading tiktoken-0.9.0-cp39-cp39-manylinux_2_17_x86_64.manylinux2014_x86_64.whl (1.2 MB)\n",
      "\u001b[K     |████████████████████████████████| 1.2 MB 66.3 MB/s eta 0:00:01\n",
      "\u001b[?25hCollecting jsonschema<5.0.0,>=4.22.0\n",
      "  Downloading jsonschema-4.23.0-py3-none-any.whl (88 kB)\n",
      "\u001b[K     |████████████████████████████████| 88 kB 6.9 MB/s  eta 0:00:01\n",
      "\u001b[?25hRequirement already satisfied: aiohttp in /home/pritha/anaconda3/lib/python3.9/site-packages (from litellm) (3.8.1)\n",
      "Requirement already satisfied: httpx>=0.23.0 in /home/pritha/anaconda3/lib/python3.9/site-packages (from litellm) (0.27.2)\n",
      "Collecting tokenizers\n",
      "  Downloading tokenizers-0.21.0-cp39-abi3-manylinux_2_17_x86_64.manylinux2014_x86_64.whl (3.0 MB)\n",
      "\u001b[K     |████████████████████████████████| 3.0 MB 9.4 MB/s eta 0:00:01\n",
      "\u001b[?25hRequirement already satisfied: click in /home/pritha/anaconda3/lib/python3.9/site-packages (from litellm) (8.0.4)\n",
      "Collecting importlib-metadata>=6.8.0\n",
      "  Downloading importlib_metadata-8.6.1-py3-none-any.whl (26 kB)\n",
      "Collecting openai>=1.61.0\n",
      "  Downloading openai-1.65.5-py3-none-any.whl (474 kB)\n",
      "\u001b[K     |████████████████████████████████| 474 kB 30.4 MB/s eta 0:00:01\n",
      "\u001b[?25hRequirement already satisfied: httpcore==1.* in /home/pritha/anaconda3/lib/python3.9/site-packages (from httpx>=0.23.0->litellm) (1.0.7)\n",
      "Requirement already satisfied: idna in /home/pritha/anaconda3/lib/python3.9/site-packages (from httpx>=0.23.0->litellm) (3.3)\n",
      "Requirement already satisfied: sniffio in /home/pritha/anaconda3/lib/python3.9/site-packages (from httpx>=0.23.0->litellm) (1.2.0)\n",
      "Requirement already satisfied: certifi in /home/pritha/anaconda3/lib/python3.9/site-packages (from httpx>=0.23.0->litellm) (2021.10.8)\n",
      "Requirement already satisfied: anyio in /home/pritha/anaconda3/lib/python3.9/site-packages (from httpx>=0.23.0->litellm) (3.5.0)\n",
      "Requirement already satisfied: h11<0.15,>=0.13 in /home/pritha/anaconda3/lib/python3.9/site-packages (from httpcore==1.*->httpx>=0.23.0->litellm) (0.14.0)\n",
      "Collecting zipp>=3.20\n",
      "  Downloading zipp-3.21.0-py3-none-any.whl (9.6 kB)\n",
      "Requirement already satisfied: MarkupSafe>=2.0 in /home/pritha/anaconda3/lib/python3.9/site-packages (from jinja2<4.0.0,>=3.1.2->litellm) (2.0.1)\n",
      "Collecting rpds-py>=0.7.1\n",
      "  Downloading rpds_py-0.23.1-cp39-cp39-manylinux_2_17_x86_64.manylinux2014_x86_64.whl (386 kB)\n",
      "\u001b[K     |████████████████████████████████| 386 kB 65.5 MB/s eta 0:00:01\n",
      "\u001b[?25hCollecting attrs>=22.2.0\n",
      "  Downloading attrs-25.1.0-py3-none-any.whl (63 kB)\n",
      "\u001b[K     |████████████████████████████████| 63 kB 3.5 MB/s  eta 0:00:01\n",
      "\u001b[?25hCollecting referencing>=0.28.4\n",
      "  Downloading referencing-0.36.2-py3-none-any.whl (26 kB)\n",
      "Collecting jsonschema-specifications>=2023.03.6\n",
      "  Downloading jsonschema_specifications-2024.10.1-py3-none-any.whl (18 kB)\n",
      "Requirement already satisfied: tqdm>4 in /home/pritha/anaconda3/lib/python3.9/site-packages (from openai>=1.61.0->litellm) (4.64.0)\n",
      "Collecting distro<2,>=1.7.0\n",
      "  Downloading distro-1.9.0-py3-none-any.whl (20 kB)\n",
      "Collecting jiter<1,>=0.4.0\n",
      "  Downloading jiter-0.9.0-cp39-cp39-manylinux_2_17_x86_64.manylinux2014_x86_64.whl (354 kB)\n",
      "\u001b[K     |████████████████████████████████| 354 kB 59.8 MB/s eta 0:00:01\n",
      "\u001b[?25hRequirement already satisfied: typing-extensions<5,>=4.11 in /home/pritha/anaconda3/lib/python3.9/site-packages (from openai>=1.61.0->litellm) (4.12.2)\n",
      "Requirement already satisfied: annotated-types>=0.6.0 in /home/pritha/anaconda3/lib/python3.9/site-packages (from pydantic<3.0.0,>=2.0.0->litellm) (0.7.0)\n",
      "Requirement already satisfied: pydantic-core==2.27.2 in /home/pritha/anaconda3/lib/python3.9/site-packages (from pydantic<3.0.0,>=2.0.0->litellm) (2.27.2)\n",
      "Requirement already satisfied: requests>=2.26.0 in /home/pritha/anaconda3/lib/python3.9/site-packages (from tiktoken>=0.7.0->litellm) (2.27.1)\n",
      "Requirement already satisfied: regex>=2022.1.18 in /home/pritha/anaconda3/lib/python3.9/site-packages (from tiktoken>=0.7.0->litellm) (2022.3.15)\n",
      "Requirement already satisfied: charset-normalizer~=2.0.0 in /home/pritha/anaconda3/lib/python3.9/site-packages (from requests>=2.26.0->tiktoken>=0.7.0->litellm) (2.0.4)\n",
      "Requirement already satisfied: urllib3<1.27,>=1.21.1 in /home/pritha/anaconda3/lib/python3.9/site-packages (from requests>=2.26.0->tiktoken>=0.7.0->litellm) (1.26.9)\n",
      "Requirement already satisfied: multidict<7.0,>=4.5 in /home/pritha/anaconda3/lib/python3.9/site-packages (from aiohttp->litellm) (5.2.0)\n",
      "Requirement already satisfied: frozenlist>=1.1.1 in /home/pritha/anaconda3/lib/python3.9/site-packages (from aiohttp->litellm) (1.2.0)\n",
      "Requirement already satisfied: aiosignal>=1.1.2 in /home/pritha/anaconda3/lib/python3.9/site-packages (from aiohttp->litellm) (1.2.0)\n",
      "Requirement already satisfied: yarl<2.0,>=1.0 in /home/pritha/anaconda3/lib/python3.9/site-packages (from aiohttp->litellm) (1.6.3)\n",
      "Requirement already satisfied: async-timeout<5.0,>=4.0.0a3 in /home/pritha/anaconda3/lib/python3.9/site-packages (from aiohttp->litellm) (4.0.1)\n",
      "Collecting huggingface-hub<1.0,>=0.16.4\n",
      "  Downloading huggingface_hub-0.29.2-py3-none-any.whl (468 kB)\n",
      "\u001b[K     |████████████████████████████████| 468 kB 53.4 MB/s eta 0:00:01\n",
      "\u001b[?25hRequirement already satisfied: pyyaml>=5.1 in /home/pritha/anaconda3/lib/python3.9/site-packages (from huggingface-hub<1.0,>=0.16.4->tokenizers->litellm) (6.0)\n",
      "Collecting fsspec>=2023.5.0\n",
      "  Downloading fsspec-2025.3.0-py3-none-any.whl (193 kB)\n",
      "\u001b[K     |████████████████████████████████| 193 kB 64.3 MB/s eta 0:00:01\n",
      "\u001b[?25hRequirement already satisfied: packaging>=20.9 in /home/pritha/anaconda3/lib/python3.9/site-packages (from huggingface-hub<1.0,>=0.16.4->tokenizers->litellm) (21.3)\n",
      "Requirement already satisfied: filelock in /home/pritha/anaconda3/lib/python3.9/site-packages (from huggingface-hub<1.0,>=0.16.4->tokenizers->litellm) (3.6.0)\n",
      "Requirement already satisfied: pyparsing!=3.0.5,>=2.0.2 in /home/pritha/anaconda3/lib/python3.9/site-packages (from packaging>=20.9->huggingface-hub<1.0,>=0.16.4->tokenizers->litellm) (3.0.4)\n",
      "Installing collected packages: rpds-py, attrs, referencing, fsspec, zipp, pydantic, jsonschema-specifications, jiter, huggingface-hub, distro, tokenizers, tiktoken, python-dotenv, openai, jsonschema, jinja2, importlib-metadata, litellm\n",
      "  Attempting uninstall: attrs\n",
      "    Found existing installation: attrs 21.4.0\n",
      "    Uninstalling attrs-21.4.0:\n",
      "      Successfully uninstalled attrs-21.4.0\n",
      "  Attempting uninstall: fsspec\n",
      "    Found existing installation: fsspec 2022.2.0\n",
      "    Uninstalling fsspec-2022.2.0:\n",
      "      Successfully uninstalled fsspec-2022.2.0\n",
      "  Attempting uninstall: zipp\n",
      "    Found existing installation: zipp 3.7.0\n",
      "    Uninstalling zipp-3.7.0:\n",
      "      Successfully uninstalled zipp-3.7.0\n",
      "  Attempting uninstall: pydantic\n",
      "    Found existing installation: pydantic 1.10.21\n",
      "    Uninstalling pydantic-1.10.21:\n",
      "      Successfully uninstalled pydantic-1.10.21\n",
      "  Attempting uninstall: jsonschema\n",
      "    Found existing installation: jsonschema 4.4.0\n",
      "    Uninstalling jsonschema-4.4.0:\n",
      "      Successfully uninstalled jsonschema-4.4.0\n",
      "  Attempting uninstall: jinja2\n",
      "    Found existing installation: Jinja2 2.11.3\n",
      "    Uninstalling Jinja2-2.11.3:\n",
      "      Successfully uninstalled Jinja2-2.11.3\n",
      "  Attempting uninstall: importlib-metadata\n",
      "    Found existing installation: importlib-metadata 4.11.3\n",
      "    Uninstalling importlib-metadata-4.11.3:\n",
      "      Successfully uninstalled importlib-metadata-4.11.3\n",
      "\u001b[31mERROR: pip's dependency resolver does not currently take into account all the packages that are installed. This behaviour is the source of the following dependency conflicts.\n",
      "spyder 5.1.5 requires pyqt5<5.13, which is not installed.\n",
      "spyder 5.1.5 requires pyqtwebengine<5.13, which is not installed.\n",
      "conda-repo-cli 1.0.4 requires pathlib, which is not installed.\n",
      "anaconda-project 0.10.2 requires ruamel-yaml, which is not installed.\u001b[0m\n",
      "Successfully installed attrs-25.1.0 distro-1.9.0 fsspec-2025.3.0 huggingface-hub-0.29.2 importlib-metadata-8.6.1 jinja2-3.1.6 jiter-0.9.0 jsonschema-4.23.0 jsonschema-specifications-2024.10.1 litellm-1.63.6 openai-1.65.5 pydantic-2.10.6 python-dotenv-1.0.1 referencing-0.36.2 rpds-py-0.23.1 tiktoken-0.9.0 tokenizers-0.21.0 zipp-3.21.0\n"
     ]
    }
   ],
   "source": [
    "!pip install litellm"
   ]
  },
  {
   "cell_type": "code",
   "execution_count": 2,
   "metadata": {
    "id": "qpZhh7Z-SFCQ"
   },
   "outputs": [],
   "source": [
    "import litellm\n",
    "import pandas as pd\n",
    "import os"
   ]
  },
  {
   "cell_type": "markdown",
   "metadata": {},
   "source": [
    "# Zero-Shot Prompting"
   ]
  },
  {
   "cell_type": "code",
   "execution_count": 5,
   "metadata": {
    "colab": {
     "base_uri": "https://localhost:8080/"
    },
    "id": "_Ov6TD9hSKZn",
    "outputId": "c409a36e-3fa4-4dd2-bdc9-521dd32e77f5"
   },
   "outputs": [
    {
     "name": "stdout",
     "output_type": "stream",
     "text": [
      "Classification completed. Results saved to Zero-Shot.csv.\n"
     ]
    }
   ],
   "source": [
    "from litellm import completion\n",
    "\n",
    "os.environ[\"OPENROUTER_API_KEY\"] = \"...\"\n",
    "\n",
    "def classify_sentence(sentence):\n",
    "\n",
    "    response = completion(\n",
    "        model=\"openrouter/meta-llama/llama-3.3-70b-instruct\",\n",
    "        messages=[{\n",
    "            \"content\": f\"Does the sentence: {sentence} contains a comparison, a simile, or not applicable? Answer with the word \\\"Comparison\\\" or the word \\\"Simile\\\" or the word \\\"Not Applicable\\\" only. Do not write anything else.\",\n",
    "            \"role\": \"user\"\n",
    "        }]\n",
    "    )\n",
    "\n",
    "    return response.choices[0].message.content.strip()\n",
    "\n",
    "file = './Gold Annotation.csv'\n",
    "df = pd.read_csv(file)\n",
    "\n",
    "df['Predicted'] = df['Sentences'].apply(classify_sentence)\n",
    "\n",
    "output_csv_path = 'Zero-Shot.csv'\n",
    "df.to_csv(output_csv_path, index=False)\n",
    "\n",
    "print(f\"Classification completed. Results saved to {output_csv_path}.\")"
   ]
  },
  {
   "cell_type": "code",
   "execution_count": 14,
   "metadata": {
    "colab": {
     "base_uri": "https://localhost:8080/"
    },
    "id": "MFub4hoI9brJ",
    "outputId": "7690bee4-076f-4fdf-cecf-f3f0a31f5b32"
   },
   "outputs": [
    {
     "name": "stdout",
     "output_type": "stream",
     "text": [
      "Unique values in 'gold': ['Simile' 'Not Applicable' 'Comparison']\n",
      "Unique values in 'Predicted': ['Simile' 'Comparison' 'Not Applicable']\n"
     ]
    }
   ],
   "source": [
    "print(\"Unique values in 'gold':\", df['Gold'].unique())\n",
    "print(\"Unique values in 'Predicted':\", df['Predicted'].unique())"
   ]
  },
  {
   "cell_type": "code",
   "execution_count": 6,
   "metadata": {
    "colab": {
     "base_uri": "https://localhost:8080/"
    },
    "id": "hZ_lrtHN8r44",
    "outputId": "9c22f3af-ac72-487b-af8e-4c70a8067200"
   },
   "outputs": [
    {
     "name": "stdout",
     "output_type": "stream",
     "text": [
      "Accuracy: 0.72\n"
     ]
    }
   ],
   "source": [
    "from sklearn.metrics import accuracy_score\n",
    "\n",
    "accuracy = accuracy_score(df['Gold'], df['Predicted'])\n",
    "\n",
    "print(f\"Accuracy: {accuracy}\")"
   ]
  },
  {
   "cell_type": "code",
   "execution_count": 16,
   "metadata": {
    "colab": {
     "base_uri": "https://localhost:8080/"
    },
    "id": "2LKHPKkiAoVn",
    "outputId": "c5254dd4-b05e-4f82-f205-2168d1475841"
   },
   "outputs": [
    {
     "name": "stdout",
     "output_type": "stream",
     "text": [
      "                                            Sentences Human Annotation  \\\n",
      "3   He paid as much as a million dollars for the p...   Not Applicable   \n",
      "12                      I am as merry as a school-boy       Comparison   \n",
      "13                    I am as giddy as a drunken man.       Comparison   \n",
      "17  And yet, according to the World Health Organiz...   Not Applicable   \n",
      "20                          It's as lovely as a rose.   Not Applicable   \n",
      "21  He would stand still and lay his head on the m...       Comparison   \n",
      "27  Having eluded killers like malaria and AIDS, o...   Not Applicable   \n",
      "29  China has emerged as a world power far more qu...   Not Applicable   \n",
      "35  Nothing keeps a man as spry as a young woman a...   Not Applicable   \n",
      "36  Few treasures are worth as much as a friend wh...           Simile   \n",
      "37                        He's as drunk as a fiddler.       Comparison   \n",
      "43               He is a figment as much as a figure.   Not Applicable   \n",
      "47                       A miss is as good as a mile.   Not Applicable   \n",
      "50  If rising sea levels flood the Maldive Islands...           Simile   \n",
      "51  So February’s policy note is a stunning revers...       Comparison   \n",
      "55  I heard her speaking English as fluently as an...       Comparison   \n",
      "57   Nothing is as pleasant as a walk in the morning.   Not Applicable   \n",
      "59  Little by little the sky cleared. The sun came...       Comparison   \n",
      "60  Tom isn't as naive as a lot of people think he...   Not Applicable   \n",
      "72       A nod is as good as a wink to a blind horse.       Comparison   \n",
      "76               His skin is as firm as a teenager's.       Comparison   \n",
      "80        Trang's party was as fun as a funeral wake.       Comparison   \n",
      "81  As far as politics is concerned, he's still as...       Comparison   \n",
      "84  As objects gradually became more and more shad...       Comparison   \n",
      "85                   Nothing is as hard as a diamond.   Not Applicable   \n",
      "90                         I was as sober as a judge.       Comparison   \n",
      "97               The surface was as flat as a mirror.       Comparison   \n",
      "98  It allows very poor people, who don't qualify ...   Not Applicable   \n",
      "\n",
      "           LLM  \n",
      "3   Comparison  \n",
      "12      Simile  \n",
      "13      Simile  \n",
      "17  Comparison  \n",
      "20      Simile  \n",
      "21      Simile  \n",
      "27  Comparison  \n",
      "29  Comparison  \n",
      "35  Comparison  \n",
      "36  Comparison  \n",
      "37      Simile  \n",
      "43  Comparison  \n",
      "47      Simile  \n",
      "50  Comparison  \n",
      "51      Simile  \n",
      "55      Simile  \n",
      "57  Comparison  \n",
      "59      Simile  \n",
      "60  Comparison  \n",
      "72      Simile  \n",
      "76      Simile  \n",
      "80      Simile  \n",
      "81      Simile  \n",
      "84      Simile  \n",
      "85  Comparison  \n",
      "90      Simile  \n",
      "97      Simile  \n",
      "98  Comparison  \n"
     ]
    }
   ],
   "source": [
    "file1 = './Gold Annotation.csv'\n",
    "file2 = './Zero_Shot.csv'\n",
    "\n",
    "df1 = pd.read_csv(file1)\n",
    "df2 = pd.read_csv(file2)\n",
    "\n",
    "\n",
    "df = pd.DataFrame({\n",
    "    'Sentences': df1['Sentences'],\n",
    "    'Human Annotation': df1['Gold'],\n",
    "    'LLM': df2['Predicted']\n",
    "})\n",
    "\n",
    "df['Human Annotation'] = df['Human Annotation'].str.strip()\n",
    "df['LLM'] = df['LLM'].str.strip()\n",
    "\n",
    "mismatched = df[df['Human Annotation'] != df['LLM']]\n",
    "file= './mismatched.csv'\n",
    "mismatched.to_csv(file, index=False)\n",
    "\n",
    "print(mismatched)"
   ]
  },
  {
   "cell_type": "markdown",
   "metadata": {
    "id": "z2ZwRGDtvwdd"
   },
   "source": [
    "## Few-shot Prompting "
   ]
  },
  {
   "cell_type": "code",
   "execution_count": null,
   "metadata": {
    "colab": {
     "base_uri": "https://localhost:8080/"
    },
    "id": "xPZ1QWLPw_Kf",
    "outputId": "08f6328e-d925-4149-ea86-87d1eff32178"
   },
   "outputs": [
    {
     "name": "stdout",
     "output_type": "stream",
     "text": [
      "Classification completed. Results saved to Few_shot.csv.\n"
     ]
    }
   ],
   "source": [
    "import os\n",
    "import pandas as pd\n",
    "from litellm import completion\n",
    "\n",
    "# Set your API key\n",
    "os.environ[\"OPENROUTER_API_KEY\"] = \"...\"\n",
    "\n",
    "def classify_sentence(sentence):\n",
    "    examples = \"\"\"\n",
    "Here are some examples to guide your response:\n",
    "1. Tom is as fast as a rabbit- Simile\n",
    "2. He donated as much as 50,000 dollars to the charity- Not Applicable\n",
    "3. An elephant isn't as big as a whale- Comparison\n",
    "\n",
    "Instruction:\n",
    "  1. If there is unspecified subject or object of comparison, you should mark it as Not Applicable. Some examples:\n",
    "     a. Nothing is as good as a breath of fresh air.\n",
    "     b. It's as beautiful as ever.\n",
    "\n",
    "  2. If the subject and object of comparison belongs to the same category (human-human, animal-animal, celestial body, social gathering), you should mark it as a Comparison. Some examples:\n",
    "     a. I am as beautiful as my mother\n",
    "     b. She is as strong as her father\n",
    "     c. He was as drunk as the guitarist\n",
    "     d. The Earth looks as round as the Sun\n",
    "     e. Her eyes are as beautiful as a child's\n",
    "     f. The surface was as white as the wall\n",
    "\n",
    "  3. If we have idiomatic expressions, then we mark it as Not Applicable. Some examples:\n",
    "     a. I am feeling under the weather today\n",
    "\n",
    "  4. If we have \"like\" as an example in the sentence, we will mark it as Not Applicable.\n",
    "     a. I feel like an ice cream\n",
    "    \"\"\"\n",
    "\n",
    "    prompt = f\"{examples}\\nNow classify the sentence: \\\"{sentence}\\\". Answer with \\\"Comparison\\\", \\\"Simile\\\", or \\\"Not Applicable\\\" only. Do not write anything else.\"\n",
    "\n",
    "\n",
    "    response = completion(\n",
    "        model=\"openrouter/meta-llama/llama-3.3-70b-instruct\",\n",
    "        messages=[{\n",
    "            \"content\": prompt,\n",
    "            \"role\": \"user\"\n",
    "        }]\n",
    "    )\n",
    "\n",
    "    return response['choices'][0]['message']['content'].strip()\n",
    "\n",
    "file = './Gold Annotation.csv'\n",
    "df = pd.read_csv(file)\n",
    "\n",
    "df['Predicted'] = df['Sentences'].apply(classify_sentence)\n",
    "\n",
    "output_csv_path = 'Few_shot.csv'\n",
    "df.to_csv(output_csv_path, index=False)\n",
    "\n",
    "print(f\"Classification completed. Results saved to {output_csv_path}.\")"
   ]
  },
  {
   "cell_type": "code",
   "execution_count": null,
   "metadata": {
    "colab": {
     "base_uri": "https://localhost:8080/"
    },
    "id": "8tsm-N4aO4uW",
    "outputId": "d460babe-55a6-4c0b-fb74-48863a0f93ba"
   },
   "outputs": [
    {
     "name": "stdout",
     "output_type": "stream",
     "text": [
      "['Simile' 'Not Applicable' 'Comparison']\n",
      "['Simile' 'Not Applicable' 'Comparison']\n"
     ]
    }
   ],
   "source": [
    "print(df['Gold'].unique())\n",
    "print(df['Predicted'].unique())"
   ]
  },
  {
   "cell_type": "code",
   "execution_count": null,
   "metadata": {
    "colab": {
     "base_uri": "https://localhost:8080/"
    },
    "id": "W9lD-v2Hnc_6",
    "outputId": "c8fd3c73-a1ac-4e26-9c90-e1829ddd3bac"
   },
   "outputs": [
    {
     "name": "stdout",
     "output_type": "stream",
     "text": [
      "Accuracy: 0.82\n"
     ]
    }
   ],
   "source": [
    "from sklearn.metrics import accuracy_score\n",
    "\n",
    "accuracy = accuracy_score(df['Gold'], df['Predicted'])\n",
    "\n",
    "print(f\"Accuracy: {accuracy}\")"
   ]
  },
  {
   "cell_type": "code",
   "execution_count": null,
   "metadata": {
    "colab": {
     "base_uri": "https://localhost:8080/"
    },
    "id": "24ILqga-qqKF",
    "outputId": "427ab1ff-fc0f-4304-9de2-7c0e2692dd6a"
   },
   "outputs": [
    {
     "name": "stdout",
     "output_type": "stream",
     "text": [
      "                                            Sentences Human Annotation  \\\n",
      "12                      I am as merry as a school-boy       Comparison   \n",
      "13                    I am as giddy as a drunken man.       Comparison   \n",
      "20                          It's as lovely as a rose.   Not Applicable   \n",
      "21  He would stand still and lay his head on the m...       Comparison   \n",
      "36  Few treasures are worth as much as a friend wh...           Simile   \n",
      "37                        He's as drunk as a fiddler.       Comparison   \n",
      "38  Her mouth is smoother than oil, but in the end...           Simile   \n",
      "43               He is a figment as much as a figure.   Not Applicable   \n",
      "50  If rising sea levels flood the Maldive Islands...           Simile   \n",
      "51  So February’s policy note is a stunning revers...       Comparison   \n",
      "59  Little by little the sky cleared. The sun came...       Comparison   \n",
      "60  Tom isn't as naive as a lot of people think he...   Not Applicable   \n",
      "72       A nod is as good as a wink to a blind horse.       Comparison   \n",
      "81  As far as politics is concerned, he's still as...       Comparison   \n",
      "83  \"No, Your Excellency, it must stand, summer an...   Not Applicable   \n",
      "84  As objects gradually became more and more shad...       Comparison   \n",
      "85                   Nothing is as hard as a diamond.   Not Applicable   \n",
      "90                         I was as sober as a judge.       Comparison   \n",
      "\n",
      "      Few_shot  \n",
      "12      Simile  \n",
      "13      Simile  \n",
      "20      Simile  \n",
      "21      Simile  \n",
      "36  Comparison  \n",
      "37      Simile  \n",
      "38  Comparison  \n",
      "43  Comparison  \n",
      "50  Comparison  \n",
      "51      Simile  \n",
      "59      Simile  \n",
      "60  Comparison  \n",
      "72      Simile  \n",
      "81      Simile  \n",
      "83      Simile  \n",
      "84      Simile  \n",
      "85  Comparison  \n",
      "90      Simile  \n"
     ]
    }
   ],
   "source": [
    "file1 = './Gold Annotation.csv'\n",
    "file2 = './Few_shot.csv'\n",
    "\n",
    "df1 = pd.read_csv(file1)\n",
    "df2 = pd.read_csv(file2)\n",
    "\n",
    "df = pd.DataFrame({\n",
    "    'Sentences': df1['Sentences'],\n",
    "    'Human Annotation': df1['Gold'],\n",
    "    'Few_shot': df2['Predicted']\n",
    "})\n",
    "\n",
    "df['Human Annotation'] = df['Human Annotation'].str.strip()\n",
    "df['Few_shot'] = df['Few_shot'].str.strip()\n",
    "\n",
    "mismatched = df[df['Human Annotation'] != df['Few_shot']]\n",
    "file = './fewshot_mismatched.csv'\n",
    "mismatched.to_csv(file, index=False)\n",
    "\n",
    "print(mismatched)"
   ]
  }
 ],
 "metadata": {
  "colab": {
   "provenance": []
  },
  "kernelspec": {
   "display_name": "Python 3 (ipykernel)",
   "language": "python",
   "name": "python3"
  },
  "language_info": {
   "codemirror_mode": {
    "name": "ipython",
    "version": 3
   },
   "file_extension": ".py",
   "mimetype": "text/x-python",
   "name": "python",
   "nbconvert_exporter": "python",
   "pygments_lexer": "ipython3",
   "version": "3.9.12"
  }
 },
 "nbformat": 4,
 "nbformat_minor": 1
}
